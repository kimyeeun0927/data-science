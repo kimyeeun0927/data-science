{
  "nbformat": 4,
  "nbformat_minor": 0,
  "metadata": {
    "colab": {
      "provenance": []
    },
    "kernelspec": {
      "name": "python3",
      "display_name": "Python 3"
    },
    "language_info": {
      "name": "python"
    }
  },
  "cells": [
    {
      "cell_type": "code",
      "source": [
        "import pandas as pd\n",
        "#from google.colab import drive\n",
        "import os\n",
        "import opensmile"
      ],
      "metadata": {
        "id": "GAlB-k76AQOK"
      },
      "execution_count": null,
      "outputs": []
    },
    {
      "cell_type": "code",
      "source": [
        "#drive.mount('/content/drive')"
      ],
      "metadata": {
        "id": "vKE-yrfsKBoP"
      },
      "execution_count": null,
      "outputs": []
    },
    {
      "cell_type": "markdown",
      "source": [
        "Labeling / Sampling"
      ],
      "metadata": {
        "id": "tCNeeO1KquE-"
      }
    },
    {
      "cell_type": "code",
      "source": [
        "# file_path = '/content/drive/MyDrive/???.csv'\n",
        "# df = pd.read_csv(file_path, encoding='cp949')"
      ],
      "metadata": {
        "id": "fVp_lQxtAVui"
      },
      "execution_count": null,
      "outputs": []
    },
    {
      "cell_type": "code",
      "source": [
        "emotion_map = {\n",
        "    'happiness': 1,\n",
        "    'sadness': 2,\n",
        "    'angry': 3,\n",
        "    'fear': 4,\n",
        "    'disgust': 5,\n",
        "    'surprise': 6\n",
        "}\n",
        "\n",
        "main_emotions = []\n",
        "\n",
        "for i, row in df.iterrows():\n",
        "    scores = []\n",
        "    for i in range(1, 6):\n",
        "        emotion = row[f'{i}번 감정']\n",
        "        intensity_col = f'{i}번 감정세기' if i != 4 else '4번감정세기'\n",
        "\n",
        "        if emotion == 'neutral':\n",
        "            continue\n",
        "\n",
        "        mapped = emotion_map.get(emotion, 0)\n",
        "        score = mapped * row[intensity_col]\n",
        "        scores.append((emotion, score))\n",
        "\n",
        "    if scores:\n",
        "        top_emotion = max(scores, key=lambda x: x[1])[0]\n",
        "        main_emotions.append(top_emotion)\n",
        "    else:\n",
        "        main_emotions.append(None)\n",
        "\n",
        "df['main_emotion'] = main_emotions\n",
        "\n",
        "emotion_counts = df['main_emotion'].value_counts(dropna=True).reset_index()\n",
        "emotion_counts.columns = ['emotion', 'count']\n",
        "\n",
        "display(emotion_counts)"
      ],
      "metadata": {
        "id": "gCmfVpv8AS3I"
      },
      "execution_count": null,
      "outputs": []
    },
    {
      "cell_type": "code",
      "source": [
        "balanced_df = []\n",
        "\n",
        "median_count = int(df['main_emotion'].value_counts().median())\n",
        "\n",
        "for emotion, group in df[df['main_emotion'].notna()].groupby('main_emotion'):\n",
        "    if len(group) >= median_count:\n",
        "        sampled = group.sample(n=median_count, random_state=42)\n",
        "    else:\n",
        "        sampled = group\n",
        "\n",
        "balanced_df.append(sampled)\n",
        "balanced_df = pd.concat(balanced_df).reset_index(drop=True)"
      ],
      "metadata": {
        "id": "f8dvFLG3Axsn"
      },
      "execution_count": null,
      "outputs": []
    },
    {
      "cell_type": "code",
      "source": [
        "txt_df = balanced_df[[\"wav_id\", \"발화문\", \"main_emotion\"]]"
      ],
      "metadata": {
        "id": "Amq1HmgyH_4O"
      },
      "execution_count": null,
      "outputs": []
    },
    {
      "cell_type": "markdown",
      "source": [
        "OPENSMile"
      ],
      "metadata": {
        "id": "ixV7WRzs9Kx4"
      }
    },
    {
      "cell_type": "code",
      "source": [
        "# drive.mount('/content/drive')\n",
        "# audio_folder = '/content/drive/MyDrive/???'\n",
        "\n",
        "audio_files = []\n",
        "for dirpath, _, filenames in os.walk(audio_folder):\n",
        "    for fname in filenames:\n",
        "        if fname.lower().endswith('.wav'):\n",
        "            audio_files.append(os.path.join(dirpath, fname))\n",
        "\n",
        "smile = opensmile.Smile(\n",
        "    feature_set=opensmile.FeatureSet.eGeMAPSv02,\n",
        "    feature_level=opensmile.FeatureLevel.Functionals,\n",
        ")\n",
        "\n",
        "results = []\n",
        "for audio_file in audio_files:\n",
        "    features = smile.process_file(audio_file)\n",
        "    row = [os.path.basename(audio_file)] + features.values.flatten().tolist()\n",
        "    results.append(row)\n",
        "\n",
        "columns = ['wav_id'] + smile.feature_names\n",
        "audio_df = pd.DataFrame(results, columns=columns)"
      ],
      "metadata": {
        "id": "PIVu5pnnBPa0"
      },
      "execution_count": null,
      "outputs": []
    },
    {
      "cell_type": "markdown",
      "source": [
        "Merge"
      ],
      "metadata": {
        "id": "KhnuS3el6bpz"
      }
    },
    {
      "cell_type": "code",
      "execution_count": null,
      "metadata": {
        "id": "Vk-0PLKO6BnF"
      },
      "outputs": [],
      "source": [
        "df = pd.merge(audio_df, txt_df, on=\"wav_id\", how=\"inner\")"
      ]
    },
    {
      "cell_type": "markdown",
      "source": [
        "Modeling"
      ],
      "metadata": {
        "id": "5HGCOu6AQTjn"
      }
    },
    {
      "cell_type": "code",
      "source": [
        "%cd Mecab-ko-for-Google-Colab\n",
        "\n",
        "!bash install_mecab-ko_on_colab_light_220429.sh\n",
        "\n",
        "!pip install pandas scikit-learn catboost"
      ],
      "metadata": {
        "id": "wuKjz1M3QV06"
      },
      "execution_count": null,
      "outputs": []
    },
    {
      "cell_type": "code",
      "source": [
        "import shutil\n",
        "shutil.rmtree('Mecab-ko-for-Google-Colab', ignore_errors=True)\n",
        "\n",
        "from konlpy.tag import Mecab\n",
        "mecab = Mecab()\n",
        "\n",
        "import os\n",
        "import numpy as np\n",
        "import pandas as pd\n",
        "from sklearn.model_selection import train_test_split\n",
        "from sklearn.preprocessing import LabelEncoder\n",
        "from sklearn.feature_extraction.text import TfidfVectorizer\n",
        "from sklearn.metrics import classification_report\n",
        "from google.colab import files\n",
        "\n",
        "from sklearn.ensemble import AdaBoostClassifier\n",
        "from catboost import CatBoostClassifier\n",
        "from sklearn.svm import SVC\n",
        "\n",
        "from konlpy.tag import Okt\n",
        "\n",
        "from sklearn.feature_extraction.text import TfidfVectorizer"
      ],
      "metadata": {
        "id": "wHQtUDvjQafE"
      },
      "execution_count": null,
      "outputs": []
    },
    {
      "cell_type": "code",
      "source": [
        "y = df['main_emotion']\n",
        "\n",
        "mecab = Mecab()\n",
        "\n",
        "def tokenize(text):\n",
        "    return mecab.morphs(text)\n",
        "\n",
        "tfidf = TfidfVectorizer(\n",
        "    tokenizer=tokenize,\n",
        "    preprocessor=lambda x: x,\n",
        "    token_pattern=None,\n",
        "    max_features=500,\n",
        "    ngram_range=(1,2)\n",
        ")\n",
        "X_text = tfidf.fit_transform(df['발화문'].fillna('')).toarray()\n",
        "print(\"TF-IDF shape:\", X_text.shape)\n",
        "\n",
        "\n",
        "audio_cols = [c for c in df.columns if c not in ['wav_id', '발화문', 'main_emotion']]\n",
        "X_audio   = df[audio_cols].values\n",
        "\n",
        "\n",
        "X = np.hstack([X_audio, X_text])\n",
        "\n",
        "\n",
        "le = LabelEncoder()\n",
        "y_enc = le.fit_transform(y)\n",
        "\n",
        "\n",
        "X_train, X_test, y_train, y_test = train_test_split(\n",
        "    X, y_enc, test_size=0.2, random_state=42, stratify=y_enc\n",
        ")\n",
        "\n",
        "\n",
        "def train_eval(name, model):\n",
        "    model.fit(X_train, y_train)\n",
        "    y_pred = model.predict(X_test)\n",
        "    print(f\"=== {name} Classification Report ===\")\n",
        "    print(classification_report(y_test, y_pred, target_names=le.classes_))\n",
        "\n",
        "\n",
        "\n",
        "cb = CatBoostClassifier(verbose=0, random_state=42)\n",
        "train_eval('CatBoost', cb)"
      ],
      "metadata": {
        "id": "CiPDT5cwQk1I"
      },
      "execution_count": null,
      "outputs": []
    },
    {
      "cell_type": "markdown",
      "source": [
        "External Data"
      ],
      "metadata": {
        "id": "PItlUAKGV0VL"
      }
    },
    {
      "cell_type": "code",
      "source": [
        "# file_path = '/content/drive/MyDrive/???.csv'\n",
        "# final_df = pd.read_csv(file_path, encoding='cp949')\n",
        "\n",
        "X_text_final = tfidf.transform(final_df['발화문'].fillna('')).toarray()\n",
        "\n",
        "X_audio_final = final_df[audio_cols].values\n",
        "\n",
        "X_final = np.hstack([X_audio_final, X_text_final])\n",
        "\n",
        "y_final_pred_enc = cb.predict(X_final)\n",
        "y_final_pred = le.inverse_transform(y_final_pred_enc)\n",
        "\n",
        "final_df['predicted_emotion'] = y_final_pred"
      ],
      "metadata": {
        "id": "Egd5NQBvQnCf"
      },
      "execution_count": null,
      "outputs": []
    }
  ]
}